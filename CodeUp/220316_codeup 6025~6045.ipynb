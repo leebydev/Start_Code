{
 "cells": [
  {
   "cell_type": "code",
   "execution_count": 2,
   "id": "4ac4cbcf",
   "metadata": {},
   "outputs": [],
   "source": [
    "# 6025\n",
    "# 정수 2개를 입력받아\n",
    "# 합을 출력하는 프로그램을 작성해보자.\n",
    "\n",
    "a,b = input().split()\n",
    "c = int(a) + int(b)\n",
    "print(c)"
   ]
  },
  {
   "cell_type": "code",
   "execution_count": null,
   "id": "065a01ff",
   "metadata": {},
   "outputs": [],
   "source": [
    "# 6026\n",
    "# 실수 2개를 입력받아\n",
    "# 합을 출력하는 프로그램을 작성해보자.\n",
    "\n",
    "a = input()\n",
    "b = input()\n",
    "c = float(a) + float(b)\n",
    "print(c)"
   ]
  },
  {
   "cell_type": "code",
   "execution_count": null,
   "id": "e200adbf",
   "metadata": {},
   "outputs": [],
   "source": [
    "# 6027\n",
    "# 10진수를 입력받아 16진수(hexadecimal)로 출력해보자.\n",
    "\n",
    "a = input()\n",
    "b = int(a)\n",
    "print('%x'%b)"
   ]
  },
  {
   "cell_type": "code",
   "execution_count": null,
   "id": "e7e56a2d",
   "metadata": {},
   "outputs": [],
   "source": [
    "# 6028\n",
    "# 10진수를 입력받아 16진수(hexadecimal)로 출력해보자.\n",
    "\n",
    "a = input()\n",
    "b = int(a)\n",
    "print('%X'%b)"
   ]
  },
  {
   "cell_type": "code",
   "execution_count": null,
   "id": "7b803d09",
   "metadata": {},
   "outputs": [],
   "source": [
    "# 6029\n",
    "# 16진수를 입력받아 8진수(octal)로 출력해보자.\n",
    "\n",
    "a = input()\n",
    "b = int(a, 16)\n",
    "print('%o'%b)"
   ]
  },
  {
   "cell_type": "code",
   "execution_count": null,
   "id": "61c95b48",
   "metadata": {},
   "outputs": [],
   "source": [
    "# 6030\n",
    "# 영문자 1개를 입력받아 10진수 유니코드(Unicode) 값으로 출력해보자.\n",
    "\n",
    "a = ord(input())\n",
    "print(a)"
   ]
  },
  {
   "cell_type": "code",
   "execution_count": null,
   "id": "4d40e21b",
   "metadata": {},
   "outputs": [],
   "source": [
    "# 6031\n",
    "# 10진 정수 1개를 입력받아\n",
    "# 유니코드 문자로 출력해보자.\n",
    "\n",
    "a = int(input())\n",
    "print(chr(a))"
   ]
  },
  {
   "cell_type": "code",
   "execution_count": null,
   "id": "cbd0291d",
   "metadata": {},
   "outputs": [],
   "source": [
    "# 6032\n",
    "# 입력된 정수의 부호를 바꿔 출력해보자.\n",
    "\n",
    "a = int(input())\n",
    "print(-a)"
   ]
  },
  {
   "cell_type": "code",
   "execution_count": null,
   "id": "67abcd54",
   "metadata": {},
   "outputs": [],
   "source": [
    "# 6033\n",
    "# 1개를 입력받아 그 다음 문자를 출력해보자.\n",
    "# 영문자 'A'의 다음 문자는 'B'이고, 숫자 '0'의 다음 문자는 '1'이다.\n",
    "\n",
    "a = ord(input())\n",
    "print(chr(a+1))"
   ]
  },
  {
   "cell_type": "code",
   "execution_count": null,
   "id": "ef3032cd",
   "metadata": {},
   "outputs": [],
   "source": [
    "# 6034\n",
    "# 정수 2개(a, b)를 입력받아 a에서 b를 뺀 차를 출력하는 프로그램을 작성해보자.\n",
    "\n",
    "a, b = input().split()\n",
    "c = int(a) - int(b)\n",
    "print(c)"
   ]
  },
  {
   "cell_type": "code",
   "execution_count": null,
   "id": "5f407491",
   "metadata": {},
   "outputs": [],
   "source": [
    "# 6035\n",
    "# 실수 2개(f1, f2)를 입력받아 곱을 출력하는 프로그램을 작성해보자.\n",
    "\n",
    "a, b = input().split()\n",
    "c = float(a) * float(b)\n",
    "print(c)"
   ]
  },
  {
   "cell_type": "code",
   "execution_count": null,
   "id": "1c848711",
   "metadata": {},
   "outputs": [],
   "source": [
    "# 6036\n",
    "# 단어와 반복 횟수를 입력받아 여러 번 출력해보자.\n",
    "\n",
    "a, b = input().split()\n",
    "print(a*int(b))"
   ]
  },
  {
   "cell_type": "code",
   "execution_count": null,
   "id": "5910525b",
   "metadata": {},
   "outputs": [],
   "source": [
    "# 6037\n",
    "# 반복 횟수와 문장을 입력받아 여러 번 출력해보자.\n",
    "\n",
    "a = input()\n",
    "b = input()\n",
    "print(int(a)*b)"
   ]
  },
  {
   "cell_type": "code",
   "execution_count": null,
   "id": "f5d137e9",
   "metadata": {},
   "outputs": [],
   "source": [
    "# 6038\n",
    "# 정수 2개(a, b)를 입력받아\n",
    "# a를 b번 곱한 거듭제곱을 출력하는 프로그램을 작성해보자.\n",
    "\n",
    "a, b = input().split()\n",
    "c = int(a)**int(b)\n",
    "print(c)"
   ]
  },
  {
   "cell_type": "code",
   "execution_count": null,
   "id": "0b6490e8",
   "metadata": {},
   "outputs": [],
   "source": [
    "# 6039\n",
    "# 실수 2개(f1, f2)를 입력받아\n",
    "# f1을 f2번 거듭제곱한 값을 출력하는 프로그램을 작성해보자.\n",
    "\n",
    "a, b = input().split()\n",
    "c = float(a)**float(b)\n",
    "print(c)"
   ]
  },
  {
   "cell_type": "code",
   "execution_count": null,
   "id": "d1be70a7",
   "metadata": {},
   "outputs": [],
   "source": [
    "# 6040\n",
    "# 정수 2개(a, b) 를 입력받아 a를 b로 나눈 몫을 출력해보자.\n",
    "\n",
    "a, b = input().split()\n",
    "c = int(a)//int(b)\n",
    "print(c)"
   ]
  },
  {
   "cell_type": "code",
   "execution_count": null,
   "id": "1f85470a",
   "metadata": {},
   "outputs": [],
   "source": [
    "# 6041\n",
    "# 실수 1개를 입력받아\n",
    "# 소숫점 이하 두 번째 자리까지의 정확도로 반올림한 값을 출력해보자.\n",
    "\n",
    "a = float(input()).split()\n",
    "c = int(a)%int(b)\n",
    "print(c)"
   ]
  },
  {
   "cell_type": "code",
   "execution_count": null,
   "id": "c2ebc51c",
   "metadata": {},
   "outputs": [],
   "source": [
    "# 6042\n",
    "# 실수 1개를 입력받아\n",
    "# 소숫점 이하 두 번째 자리까지의 정확도로 반올림한 값을 출력해보자.\n",
    "\n",
    "a = float(input())\n",
    "print(format(a,\".2f\"))"
   ]
  },
  {
   "cell_type": "code",
   "execution_count": null,
   "id": "7f143171",
   "metadata": {},
   "outputs": [],
   "source": [
    "# 6043\n",
    "# 실수 2개(f1, f2)를 입력받아\n",
    "# f1 을 f2 로 나눈 값을 출력해보자. 이 때 소숫점 넷째자리에서 반올림하여 무조건 소숫점 셋째 자리까지 출력한다.\n",
    "\n",
    "a, b = float(input()).split()\n",
    "c = float(a)/float(b)\n",
    "print(format(c,\".4f\"))"
   ]
  },
  {
   "cell_type": "code",
   "execution_count": null,
   "id": "0f367219",
   "metadata": {},
   "outputs": [],
   "source": [
    "# 6044\n",
    "# "
   ]
  },
  {
   "cell_type": "code",
   "execution_count": null,
   "id": "eddf927e",
   "metadata": {},
   "outputs": [],
   "source": [
    "# 6045\n",
    "# "
   ]
  }
 ],
 "metadata": {
  "kernelspec": {
   "display_name": "Python [conda env:study] *",
   "language": "python",
   "name": "conda-env-study-py"
  },
  "language_info": {
   "codemirror_mode": {
    "name": "ipython",
    "version": 3
   },
   "file_extension": ".py",
   "mimetype": "text/x-python",
   "name": "python",
   "nbconvert_exporter": "python",
   "pygments_lexer": "ipython3",
   "version": "3.8.12"
  }
 },
 "nbformat": 4,
 "nbformat_minor": 5
}
