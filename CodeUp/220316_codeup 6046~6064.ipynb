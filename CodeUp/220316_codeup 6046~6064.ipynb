{
 "cells": [
  {
   "cell_type": "code",
   "execution_count": null,
   "id": "bf659671",
   "metadata": {},
   "outputs": [],
   "source": [
    "# 6046\n",
    "# 정수 1개를 입력받아 2배 곱해 출력해보자.\n",
    "\n",
    "a = int(input())\n",
    "print(a<<1)"
   ]
  },
  {
   "cell_type": "code",
   "execution_count": null,
   "id": "d7b0a56b",
   "metadata": {},
   "outputs": [],
   "source": [
    "# 6047\n",
    "# 정수 2개(a, b)를 입력받아 a를 2b배 곱한 값으로 출력해보자.\n",
    "\n",
    "a, b = input().split()\n",
    "a = int(a)\n",
    "b = int(b)\n",
    "print(a<<b)"
   ]
  },
  {
   "cell_type": "code",
   "execution_count": null,
   "id": "0dde4b65",
   "metadata": {},
   "outputs": [],
   "source": [
    "# 6048\n",
    "# 두 정수(a, b)를 입력받아\n",
    "# a가 b보다 작으면 True 를, a가 b보다 크거나 같으면 False 를 출력하는 프로그램을 작성해보자.\n",
    "\n",
    "a, b = input().split()\n",
    "a = int(a)\n",
    "b = int(b)\n",
    "print(a<b)"
   ]
  },
  {
   "cell_type": "code",
   "execution_count": null,
   "id": "79868d0b",
   "metadata": {},
   "outputs": [],
   "source": [
    "# 6049\n",
    "# 두 정수(a, b)를 입력받아\n",
    "# a와 b의 값이 같으면 True 를, 같지 않으면 False 를 출력하는 프로그램을 작성해보자.\n",
    "\n",
    "a, b = input().split()\n",
    "a = int(a)\n",
    "b = int(b)\n",
    "print(a==b)"
   ]
  },
  {
   "cell_type": "code",
   "execution_count": null,
   "id": "d9501f38",
   "metadata": {},
   "outputs": [],
   "source": [
    "# 6050\n",
    "# 두 정수(a, b)를 입력받아\n",
    "# b의 값이 a의 값 보다 크거나 같으면 True 를, 같지 않으면 False 를 출력하는 프로그램을 작성해보자.\n",
    "\n",
    "a, b = input().split()\n",
    "a = int(a)\n",
    "b = int(b)\n",
    "print(a<=b)"
   ]
  },
  {
   "cell_type": "code",
   "execution_count": null,
   "id": "1d6f0e01",
   "metadata": {},
   "outputs": [],
   "source": [
    "# 6051\n",
    "# 두 정수(a, b)를 입력받아\n",
    "# a의 값이 b의 값과 서로 다르면 True 를, 같으면 False 를 출력하는 프로그램을 작성해보자.\n",
    "\n",
    "a, b = input().split()\n",
    "a = int(a)\n",
    "b = int(b)\n",
    "print(a!=b)"
   ]
  },
  {
   "cell_type": "code",
   "execution_count": null,
   "id": "1d9d7017",
   "metadata": {},
   "outputs": [],
   "source": [
    "# 6052\n",
    "# 정수가 입력되었을 때, True/False 로 평가해주는 프로그램을 작성해보자.\n",
    "\n",
    "a = int(input())\n",
    "print(bool(a))"
   ]
  },
  {
   "cell_type": "code",
   "execution_count": null,
   "id": "79702195",
   "metadata": {},
   "outputs": [],
   "source": [
    "# 6053\n",
    "# 정수값이 입력될 때, 그 불 값을 반대로 출력하는 프로그램을 작성해보자.\n",
    "\n",
    "a = int(input())\n",
    "a = bool(a)\n",
    "print(not a)"
   ]
  },
  {
   "cell_type": "code",
   "execution_count": null,
   "id": "7647f298",
   "metadata": {},
   "outputs": [],
   "source": [
    "# 6054\n",
    "# 2개의 정수값이 입력될 때,\n",
    "# 그 불 값이 모두 True 일 때에만 True 를 출력하는 프로그램을 작성해보자.\n",
    "\n",
    "a, b = input().split()\n",
    "print(bool(int(a)) and bool(int(b)))"
   ]
  },
  {
   "cell_type": "code",
   "execution_count": null,
   "id": "d783da9f",
   "metadata": {},
   "outputs": [],
   "source": [
    "# 6055\n",
    "# 2개의 정수값이 입력될 때,\n",
    "# 그 불 값이 하나라도 True 일 때에만 True 를 출력하는 프로그램을 작성해보자.\n",
    "\n",
    "a, b = input().split()\n",
    "print(bool(int(a)) or bool(int(b)))"
   ]
  },
  {
   "cell_type": "code",
   "execution_count": null,
   "id": "9c8cb98a",
   "metadata": {},
   "outputs": [],
   "source": [
    "# 6056\n",
    "# 2개의 정수값이 입력될 때,\n",
    "# 그 불 값(True/False) 이 서로 다를 때에만 True 를 출력하는 프로그램을 작성해보자.\n",
    "\n",
    "a, b = input().split()\n",
    "c = bool(int(a))\n",
    "d = bool(int(b))\n",
    "print((c and (not d)) or ((not c) and d))"
   ]
  },
  {
   "cell_type": "code",
   "execution_count": null,
   "id": "6505f820",
   "metadata": {},
   "outputs": [],
   "source": [
    "# 6057\n",
    "# 2개의 정수값이 입력될 때,\n",
    "# 그 불 값(True/False) 이 서로 같을 때에만 True 를 출력하는 프로그램을 작성해보자.\n",
    "\n",
    "a, b = input().split()\n",
    "c = bool(int(a))\n",
    "d = bool(int(b))\n",
    "print(c == d)"
   ]
  },
  {
   "cell_type": "code",
   "execution_count": null,
   "id": "0def2f8c",
   "metadata": {},
   "outputs": [],
   "source": [
    "# 6058\n",
    "# 2개의 정수값이 입력될 때,\n",
    "# 그 불 값(True/False) 이 모두 False 일 때에만 True 를 출력하는 프로그램을 작성해보자.\n",
    "\n",
    "a, b = input().split()\n",
    "c = bool(int(a))\n",
    "d = bool(int(b))\n",
    "print(not c and not d)"
   ]
  },
  {
   "cell_type": "code",
   "execution_count": null,
   "id": "5759f57e",
   "metadata": {},
   "outputs": [],
   "source": [
    "# 6059\n",
    "# 입력 된 정수를 비트단위로 참/거짓을 바꾼 후 정수로 출력해보자.\n",
    "# 비트단위(bitwise)연산자 ~ 를 붙이면 된다.(~ : tilde, 틸드라고 읽는다.)\n",
    "\n",
    "a = int(input())\n",
    "print(~a)"
   ]
  },
  {
   "cell_type": "code",
   "execution_count": null,
   "id": "90878c49",
   "metadata": {},
   "outputs": [],
   "source": [
    "# 6060\n",
    "# 입력된 정수 두 개를 비트단위로 and 연산한 후 그 결과를 정수로 출력해보자.\n",
    "# 비트단위(bitwise)연산자 &를 사용하면 된다.(and, ampersand, 앰퍼센드라고 읽는다.)\n",
    "\n",
    "a, b  = input().split()\n",
    "print(int(a) & int(b))"
   ]
  },
  {
   "cell_type": "code",
   "execution_count": null,
   "id": "7624bd16",
   "metadata": {},
   "outputs": [],
   "source": [
    "# 6061\n",
    "# 입력된 정수 두 개를 비트단위로 or 연산한 후 그 결과를 정수로 출력해보자.\n",
    "# 비트단위(bitwise) 연산자 |(or, vertical bar, 버티컬바)를 사용하면 된다.\n",
    "\n",
    "a, b  = input().split()\n",
    "print(int(a) | int(b))"
   ]
  },
  {
   "cell_type": "code",
   "execution_count": null,
   "id": "02c8d378",
   "metadata": {},
   "outputs": [],
   "source": [
    "# 6062\n",
    "# 입력된 정수 두 개를 비트단위로 xor 연산한 후 그 결과를 정수로 출력해보자.\n",
    "# 비트단위(bitwise) 연산자 ^(xor, circumflex/caret, 서컴플렉스/카릿)를 사용하면 된다.\n",
    "\n",
    "a, b  = input().split()\n",
    "print(int(a) ^ int(b))"
   ]
  },
  {
   "cell_type": "code",
   "execution_count": null,
   "id": "53525c6e",
   "metadata": {},
   "outputs": [],
   "source": [
    "# 6063\n",
    "# 입력된 두 정수(a, b) 중 큰 값을 출력하는 프로그램을 작성해보자.\n",
    "# 단, 3항 연산을 사용한다.\n",
    "\n",
    "a, b  = input().split()\n",
    "a = int(a)\n",
    "b = int(b)\n",
    "c = (a if (a>=b) else b)\n",
    "print(int(c))"
   ]
  },
  {
   "cell_type": "code",
   "execution_count": null,
   "id": "e1a404e2",
   "metadata": {},
   "outputs": [],
   "source": [
    "# 6064\n",
    "# 입력된 세 정수 a, b, c 중 가장 작은 값을 출력하는 프로그램을 작성해보자.\n",
    "# 삼항 연산자를 사용한다.\n",
    "\n",
    "a, b, c = input().split() \n",
    "a = int(a) \n",
    "b = int(b) \n",
    "c = int(c)\n",
    "\n",
    "if a>b and c>b:\n",
    "    print(b)\n",
    "elif c>a and b>a:\n",
    "    print(a)\n",
    "else:\n",
    "    print(c)"
   ]
  },
  {
   "cell_type": "code",
   "execution_count": null,
   "id": "0e24a828",
   "metadata": {},
   "outputs": [],
   "source": []
  }
 ],
 "metadata": {
  "kernelspec": {
   "display_name": "Python [conda env:study] *",
   "language": "python",
   "name": "conda-env-study-py"
  },
  "language_info": {
   "codemirror_mode": {
    "name": "ipython",
    "version": 3
   },
   "file_extension": ".py",
   "mimetype": "text/x-python",
   "name": "python",
   "nbconvert_exporter": "python",
   "pygments_lexer": "ipython3",
   "version": "3.8.12"
  }
 },
 "nbformat": 4,
 "nbformat_minor": 5
}
