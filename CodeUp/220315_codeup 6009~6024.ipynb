{
 "cells": [
  {
   "cell_type": "code",
   "execution_count": 1,
   "id": "c39211f9",
   "metadata": {},
   "outputs": [
    {
     "name": "stdout",
     "output_type": "stream",
     "text": [
      "a\n",
      "a\n"
     ]
    }
   ],
   "source": [
    "# 6009. 출력 예시 : a\n",
    "# 변수에 문자 1개를 저장한 후\n",
    "# 변수에 저장되어 있는 문자를 그대로 출력해보자.\n",
    "\n",
    "a = input()\n",
    "print(a)"
   ]
  },
  {
   "cell_type": "code",
   "execution_count": 3,
   "id": "433872f1",
   "metadata": {},
   "outputs": [
    {
     "name": "stdout",
     "output_type": "stream",
     "text": [
      "15\n"
     ]
    }
   ],
   "source": [
    "# 6010. 출력 예시 : 15\n",
    "# 변수에 정수값을 저장한 후 정수로 변환하여 출력해보자.\n",
    "\n",
    "a = int(15)\n",
    "a = input()\n",
    "print(a)"
   ]
  },
  {
   "cell_type": "code",
   "execution_count": 4,
   "id": "a8acac39",
   "metadata": {},
   "outputs": [
    {
     "name": "stdout",
     "output_type": "stream",
     "text": [
      "1.414213\n",
      "1.414213\n"
     ]
    }
   ],
   "source": [
    "# 6011. 출력 예시 : 1.414213\n",
    "# 변수에 실수값을 저장한 후\n",
    "# 변수에 저장되어 있는 값을 그대로 출력해보자.\n",
    "\n",
    "a = float(1.414213)\n",
    "a = input()\n",
    "print(a)"
   ]
  },
  {
   "cell_type": "code",
   "execution_count": null,
   "id": "f48f432e",
   "metadata": {},
   "outputs": [],
   "source": [
    "# 6012. 출력 예시 : 1\n",
    "#                   2\n",
    "# 줄을 바꿔 정수(integer) 2개를 입력받아 줄을 바꿔 출력해보자.\n",
    "\n",
    "a = int(1)\n",
    "a = input()\n",
    "print(a)\n",
    "\n",
    "b = int(2)\n",
    "b = input()\n",
    "print(b)"
   ]
  },
  {
   "cell_type": "code",
   "execution_count": null,
   "id": "129b09e5",
   "metadata": {},
   "outputs": [],
   "source": [
    "# 6013. 출력 예시 : b\n",
    "#                   a\n",
    "# 줄을 바꿔 문자(character) 2개를 입력받고, 순서를 바꿔 한 줄씩 출력해보자.\n",
    "\n",
    "a = input()\n",
    "b = input()\n",
    "print(b)\n",
    "print(a)"
   ]
  },
  {
   "cell_type": "code",
   "execution_count": null,
   "id": "c967682c",
   "metadata": {},
   "outputs": [],
   "source": [
    "# 6014. 출력 예시 : 0.1\n",
    "               # 0.1\n",
    "               # 0.1\n",
    "# 실수(real number) 1개를 입력받아 줄을 바꿔 3번 출력해보자.\n",
    "\n",
    "a = int(0.1)\n",
    "a = input()\n",
    "print(a)\n",
    "print(a)\n",
    "print(a)"
   ]
  },
  {
   "cell_type": "code",
   "execution_count": null,
   "id": "fdb62845",
   "metadata": {},
   "outputs": [],
   "source": [
    "# 6015. 출력 예시 : 1\n",
    "               # 2\n",
    "# 실수(real number) 1개를 입력받아 줄을 바꿔 3번 출력해보자.\n",
    "\n",
    "a = int(1)\n",
    "b = int(2)\n",
    "a, b = input().split()\n",
    "print(a)\n",
    "print(b)"
   ]
  },
  {
   "cell_type": "code",
   "execution_count": 12,
   "id": "b54f0a64",
   "metadata": {},
   "outputs": [
    {
     "name": "stdout",
     "output_type": "stream",
     "text": [
      "a, b\n",
      "b a,\n"
     ]
    }
   ],
   "source": [
    "# 6016. 출력 예시 : b a\n",
    "# 공백을 두고 문자(character) 2개를 입력받아 순서를 바꿔 출력해보자.\n",
    "\n",
    "a, b = input().split()\n",
    "print(b, a)"
   ]
  },
  {
   "cell_type": "code",
   "execution_count": 13,
   "id": "7ac93410",
   "metadata": {},
   "outputs": [
    {
     "name": "stdout",
     "output_type": "stream",
     "text": [
      "computer science\n",
      "computer science computer science computer science\n"
     ]
    }
   ],
   "source": [
    "# 6017. 출력 예시 : computer science computer science computer science\n",
    "# 정수(integer), 실수, 문자(character), 문자열(string) 등 1개만 입력받아 한 줄로 3번 출력해보자.\n",
    "\n",
    "a = 'computer science'\n",
    "a = input()\n",
    "print(a, a, a)"
   ]
  },
  {
   "cell_type": "code",
   "execution_count": null,
   "id": "86b85e0f",
   "metadata": {},
   "outputs": [],
   "source": [
    "# 6018. 출력 예시 : 3:16\n",
    "# 24시간 시:분 형식으로 시간이 입력될 때, 그대로 출력하는 연습을 해보자.\n",
    "\n",
    "a = int(3)\n",
    "b = int(16)\n",
    "a, b = input().split(\":\")\n",
    "print(a, b, sep=\":\")"
   ]
  },
  {
   "cell_type": "code",
   "execution_count": null,
   "id": "54409071",
   "metadata": {},
   "outputs": [],
   "source": [
    "# 6019. 입력 예시 : 2020.3.4\n",
    "#       출력 예시 : 4-3-2020\n",
    "# \"연도.월.일\"을 입력받아 \"일-월-연도\" 순서로 바꿔 출력해보자.\n",
    "\n",
    "a = int(2020)\n",
    "b = int(3)\n",
    "c = int(4)\n",
    "a, b, c = input().split(\".\")\n",
    "print(c, b, a, sep=\"-\")"
   ]
  },
  {
   "cell_type": "code",
   "execution_count": null,
   "id": "4997f380",
   "metadata": {},
   "outputs": [],
   "source": [
    "# 6020. 입력 예시 : 000907-1121112\n",
    "#       출력 예시 : 0009071121112\n",
    "# 왼쪽 6자리는 생년월일(YYMMDD)이고, 오른쪽 7자리는 성별,출생지역,확인코드로 구성되어있다.\n",
    "# 주민번호를 입력받아 형태를 바꿔 출력해보자.\n",
    "\n",
    "a, b = input().split('-')\n",
    "print(a, b, sep='')"
   ]
  },
  {
   "cell_type": "code",
   "execution_count": null,
   "id": "7e1e06ac",
   "metadata": {},
   "outputs": [],
   "source": [
    "# 6021. 입력 예시 : Hello\n",
    "#       출력 예시 : H\n",
    "                  # e\n",
    "                  # l\n",
    "                  # l\n",
    "                  # o\n",
    "                \n",
    "# 알파벳과 숫자로 이루어진 단어 1개가 입력된다.\n",
    "# 입력받은 단어의 각 문자를 한 줄에 한 문자씩 분리해 출력한다.\n",
    "\n",
    "Hello = input()\n",
    "print(Hello[0])\n",
    "print(Hello[1])\n",
    "print(Hello[2])\n",
    "print(Hello[3])\n",
    "print(Hello[4])"
   ]
  },
  {
   "cell_type": "code",
   "execution_count": 17,
   "id": "a7a3eca9",
   "metadata": {},
   "outputs": [
    {
     "name": "stdout",
     "output_type": "stream",
     "text": [
      "200304\n",
      "2\n"
     ]
    }
   ],
   "source": [
    "# 6022. 입력 예시 : 200304\n",
    "#       출력 예시 : 20 03 04\n",
    "                \n",
    "# 6자리의 연월일(YYMMDD)을 입력받아 나누어 출력해보자.\n",
    "a = 200304\n",
    "a = input()\n",
    "print(a[0:2], a[2:4], a[4:6])"
   ]
  },
  {
   "cell_type": "code",
   "execution_count": null,
   "id": "d5522e4c",
   "metadata": {},
   "outputs": [],
   "source": [
    "# 6023. 입력 예시 : 17:23:57\n",
    "#       출력 예시 : 23\n",
    "                \n",
    "# 시:분:초 형식으로 시간이 입력될 때 분만 출력해보자.\n",
    "a, b, c = input().split(':')\n",
    "print(b)"
   ]
  },
  {
   "cell_type": "code",
   "execution_count": null,
   "id": "03d6106c",
   "metadata": {},
   "outputs": [],
   "source": [
    "# 6024. 입력 예시 : hello world\n",
    "#       출력 예시 : helloworld\n",
    "                \n",
    "# 알파벳 문자와 숫자로 이루어진 단어 2개를 입력받아\n",
    "# 순서대로 붙여 출력하는 프로그램을 작성해보자.\n",
    "a, b = input().split()\n",
    "c = a+b\n",
    "print(c)"
   ]
  }
 ],
 "metadata": {
  "kernelspec": {
   "display_name": "Python [conda env:study] *",
   "language": "python",
   "name": "conda-env-study-py"
  },
  "language_info": {
   "codemirror_mode": {
    "name": "ipython",
    "version": 3
   },
   "file_extension": ".py",
   "mimetype": "text/x-python",
   "name": "python",
   "nbconvert_exporter": "python",
   "pygments_lexer": "ipython3",
   "version": "3.8.12"
  }
 },
 "nbformat": 4,
 "nbformat_minor": 5
}
