{
 "cells": [
  {
   "cell_type": "code",
   "execution_count": null,
   "id": "da471cd9",
   "metadata": {},
   "outputs": [],
   "source": [
    "# 1.\n",
    "'''\n",
    "N개의 정수가 주어진다. 이때, 최솟값과 최댓값을 구하는 프로그램을 작성하시오.\n",
    "첫째 줄에 정수의 개수 N (1 ≤ N ≤ 1,000,000)이 주어진다.\n",
    "둘째 줄에는 N개의 정수를 공백으로 구분해서 주어진다.\n",
    "모든 정수는 -1,000,000보다 크거나 같고, 1,000,000보다 작거나 같은 정수이다.\n",
    "'''\n",
    "\n",
    "a = int(input())\n",
    "num = list(map(int, input().split()))\n",
    "print(min(num), max(num))"
   ]
  },
  {
   "cell_type": "code",
   "execution_count": null,
   "id": "f13b2266",
   "metadata": {},
   "outputs": [],
   "source": [
    "# 2.\n",
    "'''\n",
    "9개의 서로 다른 자연수가 주어질 때, 이들 중 최댓값을 찾고\n",
    "그 최댓값이 몇 번째 수인지를 구하는 프로그램을 작성하시오.\n",
    "\n",
    "예를 들어, 서로 다른 9개의 자연수\n",
    "3, 29, 38, 12, 57, 74, 40, 85, 61\n",
    "이 주어지면, 이들 중 최댓값은 85이고, 이 값은 8번째 수이다.\n",
    "'''\n",
    "\n",
    "num = []\n"
   ]
  },
  {
   "cell_type": "code",
   "execution_count": null,
   "id": "c5aefcb1",
   "metadata": {},
   "outputs": [],
   "source": [
    "# 3. \n",
    "'''\n",
    "세 개의 자연수 A, B, C가 주어질 때 A × B × C를 계산한 결과에\n",
    "0부터 9까지 각각의 숫자가 몇 번씩 쓰였는지를 구하는 프로그램을 작성하시오.\n",
    "\n",
    "예를 들어 A = 150, B = 266, C = 427 이라면 A × B × C = 150 × 266 × 427 = 17037300 이 되고,\n",
    "계산한 결과 17037300 에는 0이 3번, 1이 1번, 3이 2번, 7이 2번 쓰였다.\n",
    "\n",
    "첫째 줄에 A, 둘째 줄에 B, 셋째 줄에 C가 주어진다. A, B, C는 모두 100보다 크거나 같고, 1,000보다 작은 자연수이다.\n",
    "'''\n",
    "\n",
    "#a, b, c = map(int, input().split())\n",
    "a = int(input())\n",
    "b = int(input()) \n",
    "c = int(input()) \n",
    "\n",
    "num=str(a*b*c)\n",
    "\n",
    "for i in range(10):\n",
    "    print(num.count(str(i)))"
   ]
  },
  {
   "cell_type": "code",
   "execution_count": null,
   "id": "9f71e793",
   "metadata": {},
   "outputs": [],
   "source": [
    "# 4. \n",
    "'''\n",
    "두 자연수 A와 B가 있을 때, A%B는 A를 B로 나눈 나머지 이다. 예를 들어, 7, 14, 27, 38을 3으로 나눈 나머지는 1, 2, 0, 2이다. \n",
    "\n",
    "수 10개를 입력받은 뒤, 이를 42로 나눈 나머지를 구한다. 그 다음 서로 다른 값이 몇 개 있는지 출력하는 프로그램을 작성하시오.\n",
    "\n",
    "첫째 줄부터 열번째 줄 까지 숫자가 한 줄에 하나씩 주어진다. 이 숫자는 1,000보다 작거나 같고, 음이 아닌 정수이다.\n",
    "\n",
    "'''\n"
   ]
  }
 ],
 "metadata": {
  "kernelspec": {
   "display_name": "Python [conda env:study] *",
   "language": "python",
   "name": "conda-env-study-py"
  },
  "language_info": {
   "codemirror_mode": {
    "name": "ipython",
    "version": 3
   },
   "file_extension": ".py",
   "mimetype": "text/x-python",
   "name": "python",
   "nbconvert_exporter": "python",
   "pygments_lexer": "ipython3",
   "version": "3.8.12"
  }
 },
 "nbformat": 4,
 "nbformat_minor": 5
}
