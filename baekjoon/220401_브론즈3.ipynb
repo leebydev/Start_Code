{
 "cells": [
  {
   "cell_type": "code",
   "execution_count": null,
   "id": "811d0824",
   "metadata": {},
   "outputs": [],
   "source": [
    "'''\n",
    "7개의 자연수가 주어질 때, 이들 중 홀수인 자연수들을 모두 골라 그 합을 구하고,\n",
    "고른 홀수들 중 최솟값을 찾는 프로그램을 작성하시오.\n",
    "\n",
    "예를 들어, 7개의 자연수 12, 77, 38, 41, 53, 92, 85가 주어지면 \n",
    "이들 중 홀수는 77, 41, 53, 85이므로 그 합은\n",
    "\n",
    "77 + 41 + 53 + 85 = 256 이 되고,\n",
    "\n",
    "41 < 53 < 77 < 85 이므로 홀수들 중 최솟값은 41이 된다.\n",
    "'''\n",
    "\n",
    "r = []\n",
    "for i in range(7):\n",
    "    a = int(input())\n",
    "    \n",
    "    if a % 2 == 0:\n",
    "        continue\n",
    "    else:\n",
    "        r.append(a)\n",
    "\n",
    "if len(r) == 0:\n",
    "    print(-1)\n",
    "else:\n",
    "    print(sum(r),min(r),sep=\"\\n\")"
   ]
  }
 ],
 "metadata": {
  "kernelspec": {
   "display_name": "Python [conda env:study] *",
   "language": "python",
   "name": "conda-env-study-py"
  },
  "language_info": {
   "codemirror_mode": {
    "name": "ipython",
    "version": 3
   },
   "file_extension": ".py",
   "mimetype": "text/x-python",
   "name": "python",
   "nbconvert_exporter": "python",
   "pygments_lexer": "ipython3",
   "version": "3.8.12"
  }
 },
 "nbformat": 4,
 "nbformat_minor": 5
}
