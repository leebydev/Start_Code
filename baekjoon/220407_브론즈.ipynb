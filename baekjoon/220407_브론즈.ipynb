{
 "cells": [
  {
   "cell_type": "code",
   "execution_count": null,
   "id": "b0513e3c",
   "metadata": {},
   "outputs": [],
   "source": [
    "'''\n",
    "10699\n",
    "오늘 날짜\n",
    "서울의 오늘 날짜를 출력하는 프로그램을 작성하시오.\n",
    "'''\n",
    "\n",
    "import datetime\n",
    "d = datetime.datetime.now()\n",
    "print(d.strftime('%Y-%m-%d'))"
   ]
  },
  {
   "cell_type": "code",
   "execution_count": null,
   "id": "1bf418ab",
   "metadata": {},
   "outputs": [],
   "source": [
    "'''\n",
    "2522\n",
    "별 찍기 - 12 \n",
    "예제를 보고 규칙을 유추한 뒤에 별을 찍어 보세요.\n",
    "\n",
    "<예제 출력>\n",
    "  *\n",
    " **\n",
    "***\n",
    " **\n",
    "  *\n",
    "'''\n",
    "\n",
    "n = int(input())\n",
    "for i in range(1, n + 1):\n",
    "    print(' ' * (n - i) + '*' * i)\n",
    "for j in range(1, n):\n",
    "    print(' ' * j + '*' * (n - j))"
   ]
  }
 ],
 "metadata": {
  "kernelspec": {
   "display_name": "Python [conda env:study] *",
   "language": "python",
   "name": "conda-env-study-py"
  },
  "language_info": {
   "codemirror_mode": {
    "name": "ipython",
    "version": 3
   },
   "file_extension": ".py",
   "mimetype": "text/x-python",
   "name": "python",
   "nbconvert_exporter": "python",
   "pygments_lexer": "ipython3",
   "version": "3.8.12"
  }
 },
 "nbformat": 4,
 "nbformat_minor": 5
}
