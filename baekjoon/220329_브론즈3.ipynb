{
 "cells": [
  {
   "cell_type": "code",
   "execution_count": null,
   "id": "261a8007",
   "metadata": {},
   "outputs": [],
   "source": [
    "'''\n",
    "11718번\n",
    "\n",
    "입력이 주어진다. 입력은 최대 100줄로 이루어져 있고,\n",
    "알파벳 소문자, 대문자, 공백, 숫자로만 이루어져 있다.\n",
    "각 줄은 100글자를 넘지 않으며, 빈 줄은 주어지지 않는다.\n",
    "또, 각 줄은 공백으로 시작하지 않고, 공백으로 끝나지 않는다.\n",
    "'''"
   ]
  },
  {
   "cell_type": "code",
   "execution_count": null,
   "id": "e0341ac8",
   "metadata": {},
   "outputs": [],
   "source": [
    "while True:\n",
    "    try:\n",
    "        print(input())\n",
    "    except EOFError:\n",
    "        break"
   ]
  }
 ],
 "metadata": {
  "kernelspec": {
   "display_name": "Python [conda env:study] *",
   "language": "python",
   "name": "conda-env-study-py"
  },
  "language_info": {
   "codemirror_mode": {
    "name": "ipython",
    "version": 3
   },
   "file_extension": ".py",
   "mimetype": "text/x-python",
   "name": "python",
   "nbconvert_exporter": "python",
   "pygments_lexer": "ipython3",
   "version": "3.8.12"
  }
 },
 "nbformat": 4,
 "nbformat_minor": 5
}
